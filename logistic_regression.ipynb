{
 "cells": [
  {
   "cell_type": "markdown",
   "metadata": {
    "colab_type": "text",
    "id": "0MRC0e0KhQ0S"
   },
   "source": [
    "# Logistic Regression"
   ]
  },
  {
   "cell_type": "markdown",
   "metadata": {
    "colab_type": "text",
    "id": "LWd1UlMnhT2s"
   },
   "source": [
    "## Importing the libraries"
   ]
  },
  {
   "cell_type": "code",
   "execution_count": 1,
   "metadata": {
    "colab": {},
    "colab_type": "code",
    "id": "YvGPUQaHhXfL"
   },
   "outputs": [],
   "source": [
    "import numpy as np\n",
    "import pandas as pd\n",
    "import matplotlib.pyplot as plt "
   ]
  },
  {
   "cell_type": "markdown",
   "metadata": {},
   "source": [
    "CREATING DATASET\n"
   ]
  },
  {
   "cell_type": "code",
   "execution_count": 2,
   "metadata": {},
   "outputs": [
    {
     "data": {
      "text/plain": [
       "<matplotlib.collections.PathCollection at 0x16a5c14ae20>"
      ]
     },
     "execution_count": 2,
     "metadata": {},
     "output_type": "execute_result"
    },
    {
     "data": {
      "image/png": "[encoded data removed]",
      "text/plain": [
       "<Figure size 432x288 with 1 Axes>"
      ]
     },
     "metadata": {
      "needs_background": "light"
     },
     "output_type": "display_data"
    }
   ],
   "source": [
    "age = np.random.randint(1 ,100 , 100)\n",
    "sal = np.random.randint(500, 8000,100)\n",
    "plt.scatter(age, sal)"
   ]
  },
  {
   "cell_type": "code",
   "execution_count": 3,
   "metadata": {},
   "outputs": [
    {
     "data": {
      "text/html": [
       "<div>\n",
       "<style scoped>\n",
       "    .dataframe tbody tr th:only-of-type {\n",
       "        vertical-align: middle;\n",
       "    }\n",
       "\n",
       "    .dataframe tbody tr th {\n",
       "        vertical-align: top;\n",
       "    }\n",
       "\n",
       "    .dataframe thead th {\n",
       "        text-align: right;\n",
       "    }\n",
       "</style>\n",
       "<table border=\"1\" class=\"dataframe\">\n",
       "  <thead>\n",
       "    <tr style=\"text-align: right;\">\n",
       "      <th></th>\n",
       "      <th>AGE</th>\n",
       "      <th>SALARY</th>\n",
       "    </tr>\n",
       "  </thead>\n",
       "  <tbody>\n",
       "    <tr>\n",
       "      <th>0</th>\n",
       "      <td>93</td>\n",
       "      <td>6096</td>\n",
       "    </tr>\n",
       "    <tr>\n",
       "      <th>1</th>\n",
       "      <td>40</td>\n",
       "      <td>6005</td>\n",
       "    </tr>\n",
       "    <tr>\n",
       "      <th>2</th>\n",
       "      <td>30</td>\n",
       "      <td>1244</td>\n",
       "    </tr>\n",
       "    <tr>\n",
       "      <th>3</th>\n",
       "      <td>57</td>\n",
       "      <td>943</td>\n",
       "    </tr>\n",
       "    <tr>\n",
       "      <th>4</th>\n",
       "      <td>9</td>\n",
       "      <td>6484</td>\n",
       "    </tr>\n",
       "    <tr>\n",
       "      <th>...</th>\n",
       "      <td>...</td>\n",
       "      <td>...</td>\n",
       "    </tr>\n",
       "    <tr>\n",
       "      <th>95</th>\n",
       "      <td>41</td>\n",
       "      <td>4265</td>\n",
       "    </tr>\n",
       "    <tr>\n",
       "      <th>96</th>\n",
       "      <td>35</td>\n",
       "      <td>6091</td>\n",
       "    </tr>\n",
       "    <tr>\n",
       "      <th>97</th>\n",
       "      <td>10</td>\n",
       "      <td>3168</td>\n",
       "    </tr>\n",
       "    <tr>\n",
       "      <th>98</th>\n",
       "      <td>61</td>\n",
       "      <td>7827</td>\n",
       "    </tr>\n",
       "    <tr>\n",
       "      <th>99</th>\n",
       "      <td>30</td>\n",
       "      <td>7162</td>\n",
       "    </tr>\n",
       "  </tbody>\n",
       "</table>\n",
       "<p>100 rows × 2 columns</p>\n",
       "</div>"
      ],
      "text/plain": [
       "    AGE  SALARY\n",
       "0    93    6096\n",
       "1    40    6005\n",
       "2    30    1244\n",
       "3    57     943\n",
       "4     9    6484\n",
       "..  ...     ...\n",
       "95   41    4265\n",
       "96   35    6091\n",
       "97   10    3168\n",
       "98   61    7827\n",
       "99   30    7162\n",
       "\n",
       "[100 rows x 2 columns]"
      ]
     },
     "execution_count": 3,
     "metadata": {},
     "output_type": "execute_result"
    }
   ],
   "source": [
    "df = pd.DataFrame({\"AGE\" :age , \"SALARY\" :sal })\n",
    "df"
   ]
  },
  {
   "cell_type": "code",
   "execution_count": 4,
   "metadata": {},
   "outputs": [
    {
     "data": {
      "text/html": [
       "<div>\n",
       "<style scoped>\n",
       "    .dataframe tbody tr th:only-of-type {\n",
       "        vertical-align: middle;\n",
       "    }\n",
       "\n",
       "    .dataframe tbody tr th {\n",
       "        vertical-align: top;\n",
       "    }\n",
       "\n",
       "    .dataframe thead th {\n",
       "        text-align: right;\n",
       "    }\n",
       "</style>\n",
       "<table border=\"1\" class=\"dataframe\">\n",
       "  <thead>\n",
       "    <tr style=\"text-align: right;\">\n",
       "      <th></th>\n",
       "      <th>AGE</th>\n",
       "      <th>SALARY</th>\n",
       "      <th>PURCHASED</th>\n",
       "    </tr>\n",
       "  </thead>\n",
       "  <tbody>\n",
       "    <tr>\n",
       "      <th>0</th>\n",
       "      <td>93</td>\n",
       "      <td>6096</td>\n",
       "      <td>0</td>\n",
       "    </tr>\n",
       "    <tr>\n",
       "      <th>1</th>\n",
       "      <td>40</td>\n",
       "      <td>6005</td>\n",
       "      <td>0</td>\n",
       "    </tr>\n",
       "    <tr>\n",
       "      <th>2</th>\n",
       "      <td>30</td>\n",
       "      <td>1244</td>\n",
       "      <td>0</td>\n",
       "    </tr>\n",
       "    <tr>\n",
       "      <th>3</th>\n",
       "      <td>57</td>\n",
       "      <td>943</td>\n",
       "      <td>0</td>\n",
       "    </tr>\n",
       "    <tr>\n",
       "      <th>4</th>\n",
       "      <td>9</td>\n",
       "      <td>6484</td>\n",
       "      <td>0</td>\n",
       "    </tr>\n",
       "    <tr>\n",
       "      <th>...</th>\n",
       "      <td>...</td>\n",
       "      <td>...</td>\n",
       "      <td>...</td>\n",
       "    </tr>\n",
       "    <tr>\n",
       "      <th>95</th>\n",
       "      <td>41</td>\n",
       "      <td>4265</td>\n",
       "      <td>0</td>\n",
       "    </tr>\n",
       "    <tr>\n",
       "      <th>96</th>\n",
       "      <td>35</td>\n",
       "      <td>6091</td>\n",
       "      <td>0</td>\n",
       "    </tr>\n",
       "    <tr>\n",
       "      <th>97</th>\n",
       "      <td>10</td>\n",
       "      <td>3168</td>\n",
       "      <td>0</td>\n",
       "    </tr>\n",
       "    <tr>\n",
       "      <th>98</th>\n",
       "      <td>61</td>\n",
       "      <td>7827</td>\n",
       "      <td>0</td>\n",
       "    </tr>\n",
       "    <tr>\n",
       "      <th>99</th>\n",
       "      <td>30</td>\n",
       "      <td>7162</td>\n",
       "      <td>0</td>\n",
       "    </tr>\n",
       "  </tbody>\n",
       "</table>\n",
       "<p>100 rows × 3 columns</p>\n",
       "</div>"
      ],
      "text/plain": [
       "    AGE  SALARY  PURCHASED\n",
       "0    93    6096          0\n",
       "1    40    6005          0\n",
       "2    30    1244          0\n",
       "3    57     943          0\n",
       "4     9    6484          0\n",
       "..  ...     ...        ...\n",
       "95   41    4265          0\n",
       "96   35    6091          0\n",
       "97   10    3168          0\n",
       "98   61    7827          0\n",
       "99   30    7162          0\n",
       "\n",
       "[100 rows x 3 columns]"
      ]
     },
     "execution_count": 4,
     "metadata": {},
     "output_type": "execute_result"
    }
   ],
   "source": [
    "df['PURCHASED'] = 0\n",
    "df"
   ]
  },
  {
   "cell_type": "code",
   "execution_count": 5,
   "metadata": {},
   "outputs": [
    {
     "name": "stdout",
     "output_type": "stream",
     "text": [
      "    AGE  SALARY  PURCHASED\n",
      "0    93    6096          1\n",
      "1    40    6005          1\n",
      "2    30    1244          0\n",
      "3    57     943          0\n",
      "4     9    6484          1\n",
      "..  ...     ...        ...\n",
      "95   41    4265          0\n",
      "96   35    6091          1\n",
      "97   10    3168          0\n",
      "98   61    7827          1\n",
      "99   30    7162          1\n",
      "\n",
      "[100 rows x 3 columns]\n"
     ]
    }
   ],
   "source": [
    "df['PURCHASED'] = df.apply(lambda x: 1 if (6*x['AGE']+3*x[\"SALARY\"]>18000)  else 0, axis=1)\n",
    "print(df)\n"
   ]
  },
  {
   "cell_type": "code",
   "execution_count": 6,
   "metadata": {},
   "outputs": [
    {
     "name": "stdout",
     "output_type": "stream",
     "text": [
      "    AGE  SALARY  PURCHASED\n",
      "0    93    6096          1\n",
      "1    40    6005          1\n",
      "2    30    1244          0\n",
      "3    57     943          0\n",
      "4     9    6484          1\n",
      "..  ...     ...        ...\n",
      "95   41    4265          0\n",
      "96   35    6091          1\n",
      "97   10    3168          0\n",
      "98   61    7827          1\n",
      "99   30    7162          1\n",
      "\n",
      "[100 rows x 3 columns]\n"
     ]
    },
    {
     "data": {
      "text/html": [
       "<div>\n",
       "<style scoped>\n",
       "    .dataframe tbody tr th:only-of-type {\n",
       "        vertical-align: middle;\n",
       "    }\n",
       "\n",
       "    .dataframe tbody tr th {\n",
       "        vertical-align: top;\n",
       "    }\n",
       "\n",
       "    .dataframe thead th {\n",
       "        text-align: right;\n",
       "    }\n",
       "</style>\n",
       "<table border=\"1\" class=\"dataframe\">\n",
       "  <thead>\n",
       "    <tr style=\"text-align: right;\">\n",
       "      <th></th>\n",
       "      <th>AGE</th>\n",
       "      <th>SALARY</th>\n",
       "      <th>PURCHASED</th>\n",
       "    </tr>\n",
       "  </thead>\n",
       "  <tbody>\n",
       "    <tr>\n",
       "      <th>0</th>\n",
       "      <td>103</td>\n",
       "      <td>6595</td>\n",
       "      <td>1</td>\n",
       "    </tr>\n",
       "    <tr>\n",
       "      <th>1</th>\n",
       "      <td>61</td>\n",
       "      <td>6042</td>\n",
       "      <td>1</td>\n",
       "    </tr>\n",
       "    <tr>\n",
       "      <th>2</th>\n",
       "      <td>34</td>\n",
       "      <td>930</td>\n",
       "      <td>0</td>\n",
       "    </tr>\n",
       "    <tr>\n",
       "      <th>3</th>\n",
       "      <td>66</td>\n",
       "      <td>1461</td>\n",
       "      <td>0</td>\n",
       "    </tr>\n",
       "    <tr>\n",
       "      <th>4</th>\n",
       "      <td>27</td>\n",
       "      <td>7275</td>\n",
       "      <td>1</td>\n",
       "    </tr>\n",
       "    <tr>\n",
       "      <th>...</th>\n",
       "      <td>...</td>\n",
       "      <td>...</td>\n",
       "      <td>...</td>\n",
       "    </tr>\n",
       "    <tr>\n",
       "      <th>95</th>\n",
       "      <td>45</td>\n",
       "      <td>4816</td>\n",
       "      <td>0</td>\n",
       "    </tr>\n",
       "    <tr>\n",
       "      <th>96</th>\n",
       "      <td>54</td>\n",
       "      <td>5737</td>\n",
       "      <td>1</td>\n",
       "    </tr>\n",
       "    <tr>\n",
       "      <th>97</th>\n",
       "      <td>39</td>\n",
       "      <td>3406</td>\n",
       "      <td>0</td>\n",
       "    </tr>\n",
       "    <tr>\n",
       "      <th>98</th>\n",
       "      <td>84</td>\n",
       "      <td>7408</td>\n",
       "      <td>1</td>\n",
       "    </tr>\n",
       "    <tr>\n",
       "      <th>99</th>\n",
       "      <td>38</td>\n",
       "      <td>8029</td>\n",
       "      <td>1</td>\n",
       "    </tr>\n",
       "  </tbody>\n",
       "</table>\n",
       "<p>100 rows × 3 columns</p>\n",
       "</div>"
      ],
      "text/plain": [
       "    AGE  SALARY  PURCHASED\n",
       "0   103    6595          1\n",
       "1    61    6042          1\n",
       "2    34     930          0\n",
       "3    66    1461          0\n",
       "4    27    7275          1\n",
       "..  ...     ...        ...\n",
       "95   45    4816          0\n",
       "96   54    5737          1\n",
       "97   39    3406          0\n",
       "98   84    7408          1\n",
       "99   38    8029          1\n",
       "\n",
       "[100 rows x 3 columns]"
      ]
     },
     "execution_count": 6,
     "metadata": {},
     "output_type": "execute_result"
    }
   ],
   "source": [
    "#Introduce Error\n",
    "print(df)\n",
    "df['AGE'] =  df['AGE'] +np.random.randint(0, 33, 100)\n",
    "df['SALARY'] = df['SALARY'] +np.random.randint(-500, 1000, 100)\n",
    "\n",
    "df        "
   ]
  },
  {
   "cell_type": "markdown",
   "metadata": {
    "colab_type": "text",
    "id": "K1VMqkGvhc3-"
   },
   "source": [
    "\n",
    "## Importing the dataset"
   ]
  },
  {
   "cell_type": "code",
   "execution_count": 7,
   "metadata": {
    "scrolled": true
   },
   "outputs": [],
   "source": [
    "df.to_csv(\"Record08.csv\" , index = 0)"
   ]
  },
  {
   "cell_type": "code",
   "execution_count": 8,
   "metadata": {
    "colab": {},
    "colab_type": "code",
    "id": "M52QDmyzhh9s"
   },
   "outputs": [
    {
     "name": "stdout",
     "output_type": "stream",
     "text": [
      "    AGE  SALARY  PURCHASED\n",
      "0   103    6595          1\n",
      "1    61    6042          1\n",
      "2    34     930          0\n",
      "3    66    1461          0\n",
      "4    27    7275          1\n",
      "..  ...     ...        ...\n",
      "95   45    4816          0\n",
      "96   54    5737          1\n",
      "97   39    3406          0\n",
      "98   84    7408          1\n",
      "99   38    8029          1\n",
      "\n",
      "[100 rows x 3 columns]\n"
     ]
    }
   ],
   "source": [
    "dataset = pd.read_csv('Record08.csv')\n",
    "print(dataset)\n",
    "X = dataset.iloc[:, :-1].values\n",
    "y = dataset.iloc[:, -1].values\n"
   ]
  },
  {
   "cell_type": "markdown",
   "metadata": {
    "colab_type": "text",
    "id": "YvxIPVyMhmKp"
   },
   "source": [
    "## Splitting the dataset into the Training set and Test set"
   ]
  },
  {
   "cell_type": "code",
   "execution_count": 9,
   "metadata": {
    "colab": {},
    "colab_type": "code",
    "id": "AVzJWAXIhxoC"
   },
   "outputs": [],
   "source": [
    "from sklearn.model_selection import train_test_split\n",
    "X_train, X_test, y_train, y_test = train_test_split(X, y, test_size = 0.25, random_state = 0)"
   ]
  },
  {
   "cell_type": "code",
   "execution_count": 10,
   "metadata": {
    "colab": {
     "base_uri": "https://localhost:8080/",
     "height": 1000
    },
    "colab_type": "code",
    "executionInfo": {
     "elapsed": 2163,
     "status": "ok",
     "timestamp": 1588265315502,
     "user": {
      "displayName": "Hadelin de Ponteves",
      "photoUrl": "https://lh3.googleusercontent.com/a-/AOh14GhEuXdT7eQweUmRPW8_laJuPggSK6hfvpl5a6WBaA=s64",
      "userId": "15047218817161520419"
     },
     "user_tz": -240
    },
    "id": "P3nS3-6r1i2B",
    "outputId": "75d6e0cf-d13b-42cf-a353-888682415d37"
   },
   "outputs": [
    {
     "name": "stdout",
     "output_type": "stream",
     "text": [
      "[[  42 7767]\n",
      " [ 108 4916]\n",
      " [  38 8029]\n",
      " [  42 6275]\n",
      " [  62 3630]\n",
      " [  65 4407]\n",
      " [  40 2863]\n",
      " [  77 3125]\n",
      " [  28 5983]\n",
      " [  49 4697]\n",
      " [  62 1643]\n",
      " [  95 6210]\n",
      " [ 116 4061]\n",
      " [  58 5139]\n",
      " [  77 2150]\n",
      " [  61 6042]\n",
      " [  75 6757]\n",
      " [  24 4379]\n",
      " [   8 2665]\n",
      " [  27 7275]\n",
      " [  36 6671]\n",
      " [ 111 1789]\n",
      " [  98 2339]\n",
      " [  28 4824]\n",
      " [  75 1447]\n",
      " [  37 5268]\n",
      " [  97 8232]\n",
      " [ 103 6595]\n",
      " [  25 2335]\n",
      " [  42 4137]\n",
      " [  30 7708]\n",
      " [ 112 6804]\n",
      " [  14 3743]\n",
      " [  46 4747]\n",
      " [  51 5430]\n",
      " [  51 8096]\n",
      " [  23 5516]\n",
      " [  90 6267]\n",
      " [  50 6930]\n",
      " [  59 1993]\n",
      " [  93 1697]\n",
      " [  73 3146]\n",
      " [  98 6300]\n",
      " [  51 4735]\n",
      " [  80 3136]\n",
      " [ 115  943]\n",
      " [  77 1413]\n",
      " [  64 7310]\n",
      " [  39 3406]\n",
      " [  84 7408]\n",
      " [  58 2639]\n",
      " [ 123 1475]\n",
      " [  10 8136]\n",
      " [  53 1378]\n",
      " [  37 1156]\n",
      " [  28 6520]\n",
      " [  72 2404]\n",
      " [ 110 1208]\n",
      " [ 125 4087]\n",
      " [  56 2481]\n",
      " [ 125 6928]\n",
      " [  57 4613]\n",
      " [  23 7149]\n",
      " [  18 2813]\n",
      " [  43 7025]\n",
      " [ 101 6454]\n",
      " [  31 7955]\n",
      " [  22 5511]\n",
      " [  66 5003]\n",
      " [  87 3861]\n",
      " [  54 5737]\n",
      " [ 112 4402]\n",
      " [  61 3097]\n",
      " [  81 4645]\n",
      " [  51 1791]]\n"
     ]
    }
   ],
   "source": [
    "print(X_train)"
   ]
  },
  {
   "cell_type": "code",
   "execution_count": 11,
   "metadata": {
    "colab": {
     "base_uri": "https://localhost:8080/",
     "height": 171
    },
    "colab_type": "code",
    "executionInfo": {
     "elapsed": 2158,
     "status": "ok",
     "timestamp": 1588265315502,
     "user": {
      "displayName": "Hadelin de Ponteves",
      "photoUrl": "https://lh3.googleusercontent.com/a-/AOh14GhEuXdT7eQweUmRPW8_laJuPggSK6hfvpl5a6WBaA=s64",
      "userId": "15047218817161520419"
     },
     "user_tz": -240
    },
    "id": "8dpDLojm1mVG",
    "outputId": "7ae11087-76ab-4027-c94e-9eb18f7573bf"
   },
   "outputs": [
    {
     "name": "stdout",
     "output_type": "stream",
     "text": [
      "[1 0 1 0 0 0 0 0 0 0 0 1 0 0 0 1 1 0 0 1 0 0 0 0 0 0 1 1 0 0 1 1 0 0 0 1 0\n",
      " 1 1 0 0 0 1 0 0 0 0 1 0 1 0 0 1 0 0 1 0 0 0 0 1 0 1 0 1 1 1 0 0 0 1 0 0 0\n",
      " 0]\n"
     ]
    }
   ],
   "source": [
    "print(y_train)"
   ]
  },
  {
   "cell_type": "code",
   "execution_count": 12,
   "metadata": {
    "colab": {
     "base_uri": "https://localhost:8080/",
     "height": 1000
    },
    "colab_type": "code",
    "executionInfo": {
     "elapsed": 2154,
     "status": "ok",
     "timestamp": 1588265315503,
     "user": {
      "displayName": "Hadelin de Ponteves",
      "photoUrl": "https://lh3.googleusercontent.com/a-/AOh14GhEuXdT7eQweUmRPW8_laJuPggSK6hfvpl5a6WBaA=s64",
      "userId": "15047218817161520419"
     },
     "user_tz": -240
    },
    "id": "qbb7i0DH1qui",
    "outputId": "94e717d7-fa9a-4e22-9c68-d43421cbfb92",
    "scrolled": true
   },
   "outputs": [
    {
     "name": "stdout",
     "output_type": "stream",
     "text": [
      "[[  61 2786]\n",
      " [  32 6539]\n",
      " [  34  930]\n",
      " [  28 1907]\n",
      " [  96 1867]\n",
      " [  31 5151]\n",
      " [  79 5935]\n",
      " [  53 6857]\n",
      " [  49 4154]\n",
      " [  45 4816]\n",
      " [  66 1299]\n",
      " [  36 1769]\n",
      " [  29 7181]\n",
      " [  46 4025]\n",
      " [  36 4307]\n",
      " [ 125 3528]\n",
      " [  93 4160]\n",
      " [  54 6281]\n",
      " [ 116 3848]\n",
      " [ 112 5018]\n",
      " [  73 6164]\n",
      " [  26 6775]\n",
      " [  66 1461]\n",
      " [ 106 5088]\n",
      " [  67 6573]]\n"
     ]
    }
   ],
   "source": [
    "print(X_test)"
   ]
  },
  {
   "cell_type": "code",
   "execution_count": 13,
   "metadata": {
    "colab": {
     "base_uri": "https://localhost:8080/",
     "height": 68
    },
    "colab_type": "code",
    "executionInfo": {
     "elapsed": 2149,
     "status": "ok",
     "timestamp": 1588265315503,
     "user": {
      "displayName": "Hadelin de Ponteves",
      "photoUrl": "https://lh3.googleusercontent.com/a-/AOh14GhEuXdT7eQweUmRPW8_laJuPggSK6hfvpl5a6WBaA=s64",
      "userId": "15047218817161520419"
     },
     "user_tz": -240
    },
    "id": "kj1hnFAR1s5w",
    "outputId": "ec9924c4-6d8a-4f20-dbf9-272fbaa24f92"
   },
   "outputs": [
    {
     "name": "stdout",
     "output_type": "stream",
     "text": [
      "[0 1 0 0 0 0 1 1 0 0 0 0 1 0 0 0 0 0 0 0 1 0 0 0 1]\n"
     ]
    }
   ],
   "source": [
    "print(y_test)"
   ]
  },
  {
   "cell_type": "markdown",
   "metadata": {
    "colab_type": "text",
    "id": "kW3c7UYih0hT"
   },
   "source": [
    "## Feature Scaling"
   ]
  },
  {
   "cell_type": "code",
   "execution_count": 14,
   "metadata": {
    "colab": {},
    "colab_type": "code",
    "id": "9fQlDPKCh8sc"
   },
   "outputs": [],
   "source": [
    "from sklearn.preprocessing import StandardScaler\n",
    "sc = StandardScaler()\n",
    "X_train = sc.fit_transform(X_train)\n",
    "X_test = sc.transform(X_test)"
   ]
  },
  {
   "cell_type": "code",
   "execution_count": 15,
   "metadata": {
    "colab": {
     "base_uri": "https://localhost:8080/",
     "height": 1000
    },
    "colab_type": "code",
    "executionInfo": {
     "elapsed": 2139,
     "status": "ok",
     "timestamp": 1588265315503,
     "user": {
      "displayName": "Hadelin de Ponteves",
      "photoUrl": "https://lh3.googleusercontent.com/a-/AOh14GhEuXdT7eQweUmRPW8_laJuPggSK6hfvpl5a6WBaA=s64",
      "userId": "15047218817161520419"
     },
     "user_tz": -240
    },
    "id": "syrnD1Op2BSR",
    "outputId": "711172c9-25a5-4c03-e835-6ab94766bdc0",
    "scrolled": false
   },
   "outputs": [
    {
     "name": "stdout",
     "output_type": "stream",
     "text": [
      "[[-0.66928446  1.47536967]\n",
      " [ 1.45440661  0.13680781]\n",
      " [-0.79799301  1.59838027]\n",
      " [-0.66928446  0.77486659]\n",
      " [-0.02574171 -0.46697702]\n",
      " [ 0.0707897  -0.10217078]\n",
      " [-0.73363873 -0.82708819]\n",
      " [ 0.45691535 -0.70407759]\n",
      " [-1.11976438  0.63777081]\n",
      " [-0.4440445   0.03398598]\n",
      " [-0.02574171 -1.39988561]\n",
      " [ 1.03610383  0.74434869]\n",
      " [ 1.71182371 -0.26461989]\n",
      " [-0.15445026  0.24150767]\n",
      " [ 0.45691535 -1.16184603]\n",
      " [-0.05791885  0.66547167]\n",
      " [ 0.39256108  1.00116852]\n",
      " [-1.24847293 -0.11531696]\n",
      " [-1.76330713 -0.92005039]\n",
      " [-1.15194152  1.24437268]\n",
      " [-0.86234728  0.960791  ]\n",
      " [ 1.55093803 -1.33133773]\n",
      " [ 1.13263524 -1.07310938]\n",
      " [-1.11976438  0.09361325]\n",
      " [ 0.39256108 -1.49190881]\n",
      " [-0.83017015  0.30207396]\n",
      " [ 1.1004581   1.69369   ]\n",
      " [ 1.29352093  0.92510854]\n",
      " [-1.2162958  -1.0749874 ]\n",
      " [-0.66928446 -0.22893743]\n",
      " [-1.05541011  1.44766881]\n",
      " [ 1.58311516  1.02323531]\n",
      " [-1.57024431 -0.41392283]\n",
      " [-0.54057591  0.05746129]\n",
      " [-0.37969022  0.37813394]\n",
      " [-0.37969022  1.62983718]\n",
      " [-1.28065007  0.41851147]\n",
      " [ 0.87521814  0.77111054]\n",
      " [-0.41186736  1.08239308]\n",
      " [-0.12227312 -1.23555848]\n",
      " [ 0.97174955 -1.37453229]\n",
      " [ 0.3282068  -0.69421796]\n",
      " [ 1.13263524  0.78660424]\n",
      " [-0.37969022  0.05182721]\n",
      " [ 0.55344676 -0.69891302]\n",
      " [ 1.67964658 -1.72853988]\n",
      " [ 0.45691535 -1.50787201]\n",
      " [ 0.03861256  1.26080539]\n",
      " [-0.76581587 -0.57214638]\n",
      " [ 0.68215531  1.30681699]\n",
      " [-0.15445026 -0.93225755]\n",
      " [ 1.93706368 -1.47876264]\n",
      " [-1.69895286  1.64861742]\n",
      " [-0.31533595 -1.52430473]\n",
      " [-0.83017015 -1.62853508]\n",
      " [-1.11976438  0.88989558]\n",
      " [ 0.29602966 -1.04259148]\n",
      " [ 1.51876089 -1.60412076]\n",
      " [ 2.00141795 -0.25241273]\n",
      " [-0.21880453 -1.00643951]\n",
      " [ 2.00141795  1.08145406]\n",
      " [-0.1866274  -0.00545253]\n",
      " [-1.28065007  1.18521491]\n",
      " [-1.44153576 -0.85056349]\n",
      " [-0.63710732  1.12699616]\n",
      " [ 1.22916665  0.85890818]\n",
      " [-1.02323297  1.56363682]\n",
      " [-1.31282721  0.41616394]\n",
      " [ 0.10296684  0.17765484]\n",
      " [ 0.77868673 -0.35852111]\n",
      " [-0.28315881  0.52227231]\n",
      " [ 1.58311516 -0.10451832]\n",
      " [-0.05791885 -0.71722376]\n",
      " [ 0.5856239   0.00957166]\n",
      " [-0.37969022 -1.33039871]]\n"
     ]
    }
   ],
   "source": [
    "print(X_train)"
   ]
  },
  {
   "cell_type": "code",
   "execution_count": 16,
   "metadata": {
    "colab": {
     "base_uri": "https://localhost:8080/",
     "height": 1000
    },
    "colab_type": "code",
    "executionInfo": {
     "elapsed": 2133,
     "status": "ok",
     "timestamp": 1588265315504,
     "user": {
      "displayName": "Hadelin de Ponteves",
      "photoUrl": "https://lh3.googleusercontent.com/a-/AOh14GhEuXdT7eQweUmRPW8_laJuPggSK6hfvpl5a6WBaA=s64",
      "userId": "15047218817161520419"
     },
     "user_tz": -240
    },
    "id": "JUd6iBRp2C3L",
    "outputId": "3ed7b1f1-8fb7-48bc-8df8-39b6f65081ae"
   },
   "outputs": [
    {
     "name": "stdout",
     "output_type": "stream",
     "text": [
      "[[-0.05791885 -0.86324015]\n",
      " [-0.99105583  0.8988162 ]\n",
      " [-0.92670156 -1.73464346]\n",
      " [-1.11976438 -1.27593601]\n",
      " [ 1.06828096 -1.29471625]\n",
      " [-1.02323297  0.24714175]\n",
      " [ 0.52126963  0.61523452]\n",
      " [-0.31533595  1.04811913]\n",
      " [-0.4440445  -0.22095583]\n",
      " [-0.57275305  0.08985721]\n",
      " [ 0.10296684 -1.56139571]\n",
      " [-0.86234728 -1.34072785]\n",
      " [-1.08758725  1.20023911]\n",
      " [-0.54057591 -0.28152211]\n",
      " [-0.86234728 -0.14912139]\n",
      " [ 2.00141795 -0.51486664]\n",
      " [ 0.97174955 -0.21813879]\n",
      " [-0.28315881  0.77768363]\n",
      " [ 1.71182371 -0.36462469]\n",
      " [ 1.58311516  0.18469744]\n",
      " [ 0.3282068   0.72275141]\n",
      " [-1.18411866  1.00961963]\n",
      " [ 0.10296684 -1.48533572]\n",
      " [ 1.39005234  0.21756286]\n",
      " [ 0.13514398  0.9147794 ]]\n"
     ]
    }
   ],
   "source": [
    "print(X_test)"
   ]
  },
  {
   "cell_type": "markdown",
   "metadata": {
    "colab_type": "text",
    "id": "bb6jCOCQiAmP"
   },
   "source": [
    "## Training the Logistic Regression model on the Training set"
   ]
  },
  {
   "cell_type": "code",
   "execution_count": 17,
   "metadata": {
    "colab": {
     "base_uri": "https://localhost:8080/",
     "height": 103
    },
    "colab_type": "code",
    "executionInfo": {
     "elapsed": 2125,
     "status": "ok",
     "timestamp": 1588265315505,
     "user": {
      "displayName": "Hadelin de Ponteves",
      "photoUrl": "https://lh3.googleusercontent.com/a-/AOh14GhEuXdT7eQweUmRPW8_laJuPggSK6hfvpl5a6WBaA=s64",
      "userId": "15047218817161520419"
     },
     "user_tz": -240
    },
    "id": "e0pFVAmciHQs",
    "outputId": "67f64468-abdb-4fe7-cce9-de0037119610"
   },
   "outputs": [
    {
     "data": {
      "text/plain": [
       "LogisticRegression()"
      ]
     },
     "execution_count": 17,
     "metadata": {},
     "output_type": "execute_result"
    }
   ],
   "source": [
    "from sklearn.linear_model import LogisticRegression\n",
    "classifier = LogisticRegression()\n",
    "classifier.fit(X_train, y_train)\n"
   ]
  },
  {
   "cell_type": "markdown",
   "metadata": {
    "colab_type": "text",
    "id": "yyxW5b395mR2"
   },
   "source": [
    "## Predicting a new result"
   ]
  },
  {
   "cell_type": "code",
   "execution_count": 18,
   "metadata": {
    "colab": {
     "base_uri": "https://localhost:8080/",
     "height": 34
    },
    "colab_type": "code",
    "executionInfo": {
     "elapsed": 2118,
     "status": "ok",
     "timestamp": 1588265315505,
     "user": {
      "displayName": "Hadelin de Ponteves",
      "photoUrl": "https://lh3.googleusercontent.com/a-/AOh14GhEuXdT7eQweUmRPW8_laJuPggSK6hfvpl5a6WBaA=s64",
      "userId": "15047218817161520419"
     },
     "user_tz": -240
    },
    "id": "f8YOXsQy58rP",
    "outputId": "2e1b0063-548e-4924-cf3a-93a79d97e35e"
   },
   "outputs": [
    {
     "name": "stdout",
     "output_type": "stream",
     "text": [
      "[1]\n"
     ]
    }
   ],
   "source": [
    "print(classifier.predict(sc.transform([[100000000,108888888888899999]])))"
   ]
  },
  {
   "cell_type": "markdown",
   "metadata": {
    "colab_type": "text",
    "id": "vKYVQH-l5NpE"
   },
   "source": [
    "## Predicting the Test set results"
   ]
  },
  {
   "cell_type": "code",
   "execution_count": 19,
   "metadata": {},
   "outputs": [
    {
     "data": {
      "text/plain": [
       "array([[-0.05791885, -0.86324015],\n",
       "       [-0.99105583,  0.8988162 ],\n",
       "       [-0.92670156, -1.73464346],\n",
       "       [-1.11976438, -1.27593601],\n",
       "       [ 1.06828096, -1.29471625],\n",
       "       [-1.02323297,  0.24714175],\n",
       "       [ 0.52126963,  0.61523452],\n",
       "       [-0.31533595,  1.04811913],\n",
       "       [-0.4440445 , -0.22095583],\n",
       "       [-0.57275305,  0.08985721],\n",
       "       [ 0.10296684, -1.56139571],\n",
       "       [-0.86234728, -1.34072785],\n",
       "       [-1.08758725,  1.20023911],\n",
       "       [-0.54057591, -0.28152211],\n",
       "       [-0.86234728, -0.14912139],\n",
       "       [ 2.00141795, -0.51486664],\n",
       "       [ 0.97174955, -0.21813879],\n",
       "       [-0.28315881,  0.77768363],\n",
       "       [ 1.71182371, -0.36462469],\n",
       "       [ 1.58311516,  0.18469744],\n",
       "       [ 0.3282068 ,  0.72275141],\n",
       "       [-1.18411866,  1.00961963],\n",
       "       [ 0.10296684, -1.48533572],\n",
       "       [ 1.39005234,  0.21756286],\n",
       "       [ 0.13514398,  0.9147794 ]])"
      ]
     },
     "execution_count": 19,
     "metadata": {},
     "output_type": "execute_result"
    }
   ],
   "source": [
    "X_test"
   ]
  },
  {
   "cell_type": "code",
   "execution_count": 20,
   "metadata": {},
   "outputs": [
    {
     "data": {
      "text/plain": [
       "array([0, 1, 0, 0, 0, 0, 1, 1, 0, 0, 0, 0, 1, 0, 0, 0, 0, 0, 0, 0, 1, 0,\n",
       "       0, 0, 1], dtype=int64)"
      ]
     },
     "execution_count": 20,
     "metadata": {},
     "output_type": "execute_result"
    }
   ],
   "source": [
    "y_test"
   ]
  },
  {
   "cell_type": "code",
   "execution_count": 21,
   "metadata": {
    "colab": {
     "base_uri": "https://localhost:8080/",
     "height": 1000
    },
    "colab_type": "code",
    "executionInfo": {
     "elapsed": 2112,
     "status": "ok",
     "timestamp": 1588265315506,
     "user": {
      "displayName": "Hadelin de Ponteves",
      "photoUrl": "https://lh3.googleusercontent.com/a-/AOh14GhEuXdT7eQweUmRPW8_laJuPggSK6hfvpl5a6WBaA=s64",
      "userId": "15047218817161520419"
     },
     "user_tz": -240
    },
    "id": "p6VMTb2O4hwM",
    "outputId": "a4f03a97-2942-45cd-f735-f4063277a96c"
   },
   "outputs": [
    {
     "name": "stdout",
     "output_type": "stream",
     "text": [
      "Predict Actual\n",
      "[[0 0]\n",
      " [1 1]\n",
      " [0 0]\n",
      " [0 0]\n",
      " [0 0]\n",
      " [0 0]\n",
      " [1 1]\n",
      " [1 1]\n",
      " [0 0]\n",
      " [0 0]\n",
      " [0 0]\n",
      " [0 0]\n",
      " [1 1]\n",
      " [0 0]\n",
      " [0 0]\n",
      " [0 0]\n",
      " [0 0]\n",
      " [1 0]\n",
      " [0 0]\n",
      " [0 0]\n",
      " [1 1]\n",
      " [1 0]\n",
      " [0 0]\n",
      " [0 0]\n",
      " [1 1]]\n"
     ]
    }
   ],
   "source": [
    "y_pred = classifier.predict(X_test)\n",
    "#print(y_pred)\n",
    "#print(y_pred.shape)\n",
    "#print(y_pred.reshape(25,1))\n",
    "#print(y_pred.reshape(len(y_pred),1))\n",
    "\n",
    "#print(y_test.reshape(len(y_test),1))\n",
    "\n",
    "print(\"Predict Actual\")\n",
    "print(np.concatenate((y_pred.reshape(len(y_pred),1), y_test.reshape(len(y_test),1)),1))\n"
   ]
  },
  {
   "cell_type": "code",
   "execution_count": 22,
   "metadata": {},
   "outputs": [
    {
     "name": "stdout",
     "output_type": "stream",
     "text": [
      "Pred Actual\n",
      "[[0 0]\n",
      " [1 1]\n",
      " [0 0]\n",
      " [0 0]\n",
      " [0 0]\n",
      " [0 0]\n",
      " [1 1]\n",
      " [1 1]\n",
      " [0 0]\n",
      " [0 0]\n",
      " [0 0]\n",
      " [0 0]\n",
      " [1 1]\n",
      " [0 0]\n",
      " [0 0]\n",
      " [0 0]\n",
      " [0 0]\n",
      " [1 0]\n",
      " [0 0]\n",
      " [0 0]\n",
      " [1 1]\n",
      " [1 0]\n",
      " [0 0]\n",
      " [0 0]\n",
      " [1 1]]\n"
     ]
    }
   ],
   "source": [
    "print(\"Pred Actual\")\n",
    "print(np.concatenate((y_pred.reshape(len(y_pred),1), y_test.reshape(len(y_test),1)),1))\n"
   ]
  },
  {
   "cell_type": "code",
   "execution_count": 23,
   "metadata": {},
   "outputs": [
    {
     "data": {
      "text/plain": [
       "array([[0],\n",
       "       [1],\n",
       "       [0],\n",
       "       [0],\n",
       "       [0],\n",
       "       [0],\n",
       "       [1],\n",
       "       [1],\n",
       "       [0],\n",
       "       [0],\n",
       "       [0],\n",
       "       [0],\n",
       "       [1],\n",
       "       [0],\n",
       "       [0],\n",
       "       [0],\n",
       "       [0],\n",
       "       [1],\n",
       "       [0],\n",
       "       [0],\n",
       "       [1],\n",
       "       [1],\n",
       "       [0],\n",
       "       [0],\n",
       "       [1]], dtype=int64)"
      ]
     },
     "execution_count": 23,
     "metadata": {},
     "output_type": "execute_result"
    }
   ],
   "source": [
    "y_pred.reshape(25,1)"
   ]
  },
  {
   "cell_type": "code",
   "execution_count": 24,
   "metadata": {},
   "outputs": [
    {
     "data": {
      "text/plain": [
       "array([0, 1, 0, 0, 0, 0, 1, 1, 0, 0, 0, 0, 1, 0, 0, 0, 0, 1, 0, 0, 1, 1,\n",
       "       0, 0, 1], dtype=int64)"
      ]
     },
     "execution_count": 24,
     "metadata": {},
     "output_type": "execute_result"
    }
   ],
   "source": [
    "y_pred"
   ]
  },
  {
   "cell_type": "markdown",
   "metadata": {
    "colab_type": "text",
    "id": "h4Hwj34ziWQW"
   },
   "source": [
    "## Making the Confusion Matrix"
   ]
  },
  {
   "cell_type": "code",
   "execution_count": 25,
   "metadata": {
    "colab": {
     "base_uri": "https://localhost:8080/",
     "height": 68
    },
    "colab_type": "code",
    "executionInfo": {
     "elapsed": 2107,
     "status": "ok",
     "timestamp": 1588265315506,
     "user": {
      "displayName": "Hadelin de Ponteves",
      "photoUrl": "https://lh3.googleusercontent.com/a-/AOh14GhEuXdT7eQweUmRPW8_laJuPggSK6hfvpl5a6WBaA=s64",
      "userId": "15047218817161520419"
     },
     "user_tz": -240
    },
    "id": "D6bpZwUiiXic",
    "outputId": "f202fcb3-5882-4d93-e5df-50791185067e",
    "scrolled": true
   },
   "outputs": [
    {
     "data": {
      "text/plain": [
       "0.92"
      ]
     },
     "execution_count": 25,
     "metadata": {},
     "output_type": "execute_result"
    }
   ],
   "source": [
    "from sklearn.metrics import confusion_matrix, accuracy_score\n",
    "#cm = confusion_matrix(y_test, y_pred)\n",
    "\n",
    "#print(cm)\n",
    "accuracy_score(y_test, y_pred)"
   ]
  },
  {
   "cell_type": "code",
   "execution_count": null,
   "metadata": {},
   "outputs": [],
   "source": [
    "print(np.concatenate((y_pred.reshape(len(y_pred),1), y_test.reshape(len(y_test),1)),1))\n"
   ]
  },
  {
   "cell_type": "code",
   "execution_count": null,
   "metadata": {},
   "outputs": [],
   "source": [
    "len(y_pred)"
   ]
  },
  {
   "cell_type": "code",
   "execution_count": null,
   "metadata": {},
   "outputs": [],
   "source": [
    "y_pred.shape\n",
    "\n",
    "#1 row and 25 elements\n",
    "\n",
    "#but what we want is   # 1 column  and 25 rows in it"
   ]
  },
  {
   "cell_type": "code",
   "execution_count": null,
   "metadata": {},
   "outputs": [],
   "source": [
    "y_pred.reshape(len(y_pred),1)"
   ]
  },
  {
   "cell_type": "code",
   "execution_count": null,
   "metadata": {},
   "outputs": [],
   "source": [
    "from sklearn.metrics import accuracy_score\n",
    "accuracy_score(y_test, y_pred, normalize =True)"
   ]
  },
  {
   "cell_type": "code",
   "execution_count": null,
   "metadata": {},
   "outputs": [],
   "source": [
    "accuracy_score(y_test, y_pred, normalize = False)"
   ]
  },
  {
   "cell_type": "code",
   "execution_count": null,
   "metadata": {},
   "outputs": [],
   "source": [
    "len(y_test)"
   ]
  },
  {
   "cell_type": "code",
   "execution_count": null,
   "metadata": {},
   "outputs": [],
   "source": []
  },
  {
   "cell_type": "code",
   "execution_count": null,
   "metadata": {},
   "outputs": [],
   "source": []
  },
  {
   "cell_type": "code",
   "execution_count": null,
   "metadata": {},
   "outputs": [],
   "source": []
  },
  {
   "cell_type": "code",
   "execution_count": null,
   "metadata": {},
   "outputs": [],
   "source": []
  },
  {
   "cell_type": "code",
   "execution_count": null,
   "metadata": {},
   "outputs": [],
   "source": [
    "from sklearn.ensemble import RandomForestClassifier\n",
    "obj  = RandomForestClassifier()\n",
    "obj.fit(X_train, y_train)"
   ]
  },
  {
   "cell_type": "code",
   "execution_count": null,
   "metadata": {},
   "outputs": [],
   "source": [
    "y_pred = obj.predict(X_test)\n",
    "accuracy_score(y_test, y_pred)"
   ]
  },
  {
   "cell_type": "code",
   "execution_count": null,
   "metadata": {},
   "outputs": [],
   "source": [
    "Train any algo\n",
    "\n",
    "1. import the lib\n",
    "2. create the object \n",
    "3. .fit() on training dataset\n",
    "4. .predict() on test dataset"
   ]
  }
 ],
 "metadata": {
  "colab": {
   "authorship_tag": "ABX9TyOsvB/iqEjYj3VN6C/JbvkE",
   "collapsed_sections": [],
   "machine_shape": "hm",
   "name": "logistic_regression.ipynb",
   "provenance": [],
   "toc_visible": true
  },
  "kernelspec": {
   "display_name": "Python 3",
   "language": "python",
   "name": "python3"
  },
  "language_info": {
   "codemirror_mode": {
    "name": "ipython",
    "version": 3
   },
   "file_extension": ".py",
   "mimetype": "text/x-python",
   "name": "python",
   "nbconvert_exporter": "python",
   "pygments_lexer": "ipython3",
   "version": "3.8.5"
  }
 },
 "nbformat": 4,
 "nbformat_minor": 1
}
